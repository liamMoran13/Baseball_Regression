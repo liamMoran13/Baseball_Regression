{
 "cells": [
  {
   "cell_type": "markdown",
   "metadata": {},
   "source": [
    "# Import libraries"
   ]
  },
  {
   "cell_type": "code",
   "execution_count": 1,
   "metadata": {},
   "outputs": [],
   "source": [
    "import requests as re\n",
    "from bs4 import BeautifulSoup as bs\n",
    "import pandas as pd"
   ]
  },
  {
   "cell_type": "markdown",
   "metadata": {},
   "source": [
    "# Pull list of teams from website homepage"
   ]
  },
  {
   "cell_type": "markdown",
   "metadata": {},
   "source": [
    "Start with the initial url of the homepage for baseball reference."
   ]
  },
  {
   "cell_type": "code",
   "execution_count": 2,
   "metadata": {},
   "outputs": [],
   "source": [
    "url = 'https://www.baseball-reference.com'"
   ]
  },
  {
   "cell_type": "code",
   "execution_count": 3,
   "metadata": {},
   "outputs": [],
   "source": [
    "#pull html from the above url\n",
    "page_html = re.get(url)\n",
    "#turn the html into a beautiful soup object\n",
    "soup = bs(page_html.text)"
   ]
  },
  {
   "cell_type": "code",
   "execution_count": 4,
   "metadata": {},
   "outputs": [],
   "source": [
    "#find all the tags for the teams \n",
    "teams = soup.find_all('div',class_='division')"
   ]
  },
  {
   "cell_type": "markdown",
   "metadata": {},
   "source": [
    "# Create list of urls for each team with their current roster"
   ]
  },
  {
   "cell_type": "code",
   "execution_count": 14,
   "metadata": {},
   "outputs": [],
   "source": [
    "year = '2021'\n",
    "new_list = []\n",
    "#teams is a list of the initials of all teams\n",
    "for division in teams:\n",
    "    team_names = division.find_all('a')\n",
    "    #creates the url with the abbreviation for each team\n",
    "    for links in team_names:\n",
    "        final_link = links['href'].replace('/teams','')\n",
    "        #adds details to the url \n",
    "        final_link = url + '/teams/'+ final_link + year + '.shtml'\n",
    "        new_list.append(final_link)"
   ]
  },
  {
   "cell_type": "code",
   "execution_count": 45,
   "metadata": {},
   "outputs": [
    {
     "data": {
      "text/plain": [
       "['https://www.baseball-reference.com/teams/ATL/2021.shtml',\n",
       " 'https://www.baseball-reference.com/teams/FLA/2021.shtml',\n",
       " 'https://www.baseball-reference.com/teams/NYM/2021.shtml',\n",
       " 'https://www.baseball-reference.com/teams/PHI/2021.shtml',\n",
       " 'https://www.baseball-reference.com/teams/WSN/2021.shtml',\n",
       " 'https://www.baseball-reference.com/teams/CHC/2021.shtml',\n",
       " 'https://www.baseball-reference.com/teams/CIN/2021.shtml',\n",
       " 'https://www.baseball-reference.com/teams/MIL/2021.shtml',\n",
       " 'https://www.baseball-reference.com/teams/PIT/2021.shtml',\n",
       " 'https://www.baseball-reference.com/teams/STL/2021.shtml',\n",
       " 'https://www.baseball-reference.com/teams/ARI/2021.shtml',\n",
       " 'https://www.baseball-reference.com/teams/COL/2021.shtml',\n",
       " 'https://www.baseball-reference.com/teams/LAD/2021.shtml',\n",
       " 'https://www.baseball-reference.com/teams/SDP/2021.shtml',\n",
       " 'https://www.baseball-reference.com/teams/SFG/2021.shtml',\n",
       " 'https://www.baseball-reference.com/teams/BAL/2021.shtml',\n",
       " 'https://www.baseball-reference.com/teams/BOS/2021.shtml',\n",
       " 'https://www.baseball-reference.com/teams/NYY/2021.shtml',\n",
       " 'https://www.baseball-reference.com/teams/TBR/2021.shtml',\n",
       " 'https://www.baseball-reference.com/teams/TOR/2021.shtml',\n",
       " 'https://www.baseball-reference.com/teams/CHW/2021.shtml',\n",
       " 'https://www.baseball-reference.com/teams/CLE/2021.shtml',\n",
       " 'https://www.baseball-reference.com/teams/DET/2021.shtml',\n",
       " 'https://www.baseball-reference.com/teams/KCR/2021.shtml',\n",
       " 'https://www.baseball-reference.com/teams/MIN/2021.shtml',\n",
       " 'https://www.baseball-reference.com/teams/HOU/2021.shtml',\n",
       " 'https://www.baseball-reference.com/teams/LAA/2021.shtml',\n",
       " 'https://www.baseball-reference.com/teams/OAK/2021.shtml',\n",
       " 'https://www.baseball-reference.com/teams/SEA/2021.shtml',\n",
       " 'https://www.baseball-reference.com/teams/TEX/2021.shtml']"
      ]
     },
     "execution_count": 45,
     "metadata": {},
     "output_type": "execute_result"
    }
   ],
   "source": [
    "new_list"
   ]
  },
  {
   "cell_type": "markdown",
   "metadata": {},
   "source": [
    "# Pull Player URLs from Team Home Page"
   ]
  },
  {
   "cell_type": "code",
   "execution_count": 81,
   "metadata": {},
   "outputs": [],
   "source": [
    "#this function takes in a team url and returns a list of player urls that appear on that page\n",
    "def player_links_from_team(team_url):\n",
    "    raw_data = re.get(team_url)\n",
    "    html_of_team_page = bs(raw_data.text)\n",
    "    #in this analysis we are only pulling position players so there is no pitchers\n",
    "    batting_table = html_of_team_page.find('div',id='div_team_batting')\n",
    "    all_players = batting_table.find('tbody').find_all('tr')\n",
    "    #initialize list for players urls\n",
    "    list_of_player_links = []\n",
    "    for i in all_players:\n",
    "        position = i.find(attrs={'data-stat':'pos'}).text\n",
    "        #filter pitchers out before adding them to the list of player links\n",
    "        if position != 'P' and position != 'Pos':\n",
    "            player_link = i.find('a')['href']\n",
    "            #add the player extension to the standard webpage before adding to list_of_player_links\n",
    "            list_of_player_links.append(url+player_link)\n",
    "    return list_of_player_links"
   ]
  },
  {
   "cell_type": "markdown",
   "metadata": {},
   "source": [
    "# Pull Stats from Player Link"
   ]
  },
  {
   "cell_type": "code",
   "execution_count": 10,
   "metadata": {},
   "outputs": [],
   "source": [
    "#this function takes in a player's URL and then outputs a list of dictionaries, where each dictionary is a year of statistics\n",
    "def data_pull_player_link(player_link):\n",
    "    raw_data = re.get(player_link)\n",
    "    html_of_player_page = bs(raw_data.text)  \n",
    "    #there are three batting tables associated with each player\n",
    "    standard_batting = html_of_player_page.find('div',id='div_batting_standard')\n",
    "    #the other tables are commented out in the html, so it is necessary to remove the <!-- symbols in order to see these tables\n",
    "    html_of_player_page_string = str(html_of_player_page)\n",
    "    #removing these comments\n",
    "    removing_comments = html_of_player_page_string.replace('<!--','').replace('-->','')\n",
    "    #changing back to Beautiful Soup\n",
    "    html_without_comments = bs(removing_comments)\n",
    "    #second table of statistics\n",
    "    player_value_batting = html_without_comments.find('div',id='div_batting_value').find('tbody').find_all('tr',class_=['full','full rowSum'])\n",
    "    #try to pull the third table of statistics if available\n",
    "    try:\n",
    "        advanced_batting = html_without_comments.find('div',id='div_batting_advanced').find('tbody').find_all('tr',class_=['partial_table','full'])\n",
    "    except:\n",
    "        advanced_batting = []\n",
    "    standard_batting_lines = standard_batting.find('tbody').find_all('tr',class_=['partial_table','full'])\n",
    "    #initialize lists for cleaned data\n",
    "    list_of_years = []\n",
    "    new_standard = []\n",
    "    new_advanced = []\n",
    "    #remove totaled rows to avoid duplicate data in standard Batting and advanced batting\n",
    "    for i in standard_batting_lines:\n",
    "        if i.find('td',attrs={'data-stat':'team_ID'}).text != 'TOT' and i.find('td',attrs={'data-stat':'team_ID'}).text != '':\n",
    "            new_standard.append(i)\n",
    "    for i in advanced_batting:\n",
    "        if i.find('td',attrs={'data-stat':'team_ID'}).text != 'TOT'and i.find('td',attrs={'data-stat':'team_ID'}).text != '':\n",
    "            new_advanced.append(i)\n",
    "    #go through each year in the zip of all three tables\n",
    "    for i,j,k in zip(new_standard,player_value_batting,new_advanced):\n",
    "        #this filters out the TOTAL rows\n",
    "        if i.find('td',attrs={'data-stat':'team_ID'}).text != 'TOT':\n",
    "            #initialize dictionary for given year\n",
    "            year_dict = {}\n",
    "            #pull in data for each datapoint from one of the three tables\n",
    "            year_dict['year'] = i.find('th',attrs={'data-stat':'year_ID'}).text\n",
    "            year_dict['age'] = i.find('td',attrs={'data-stat':'age'}).text\n",
    "            year_dict['team_ID'] = i.find('td',attrs={'data-stat':'team_ID'}).text\n",
    "            year_dict['games'] = i.find('td',attrs={'data-stat':'G'}).text\n",
    "            year_dict['PA'] = i.find('td',attrs={'data-stat':'PA'}).text\n",
    "            year_dict['AB'] = i.find('td',attrs={'data-stat':'AB'}).text\n",
    "            year_dict['R'] = i.find('td',attrs={'data-stat':'R'}).text\n",
    "            year_dict['H'] = i.find('td',attrs={'data-stat':'H'}).text\n",
    "            year_dict['2B'] = i.find('td',attrs={'data-stat':'2B'}).text\n",
    "            year_dict['3B'] = i.find('td',attrs={'data-stat':'3B'}).text\n",
    "            year_dict['HR'] = i.find('td',attrs={'data-stat':'HR'}).text\n",
    "            year_dict['RBI'] = i.find('td',attrs={'data-stat':'RBI'}).text\n",
    "            year_dict['SB'] = i.find('td',attrs={'data-stat':'SB'}).text\n",
    "            year_dict['CS'] = i.find('td',attrs={'data-stat':'CS'}).text\n",
    "            year_dict['BB'] = i.find('td',attrs={'data-stat':'BB'}).text\n",
    "            year_dict['SO'] = i.find('td',attrs={'data-stat':'SO'}).text\n",
    "            year_dict['batting_avg'] = i.find('td',attrs={'data-stat':'batting_avg'}).text\n",
    "            year_dict['onbase_perc'] = i.find('td',attrs={'data-stat':'onbase_perc'}).text\n",
    "            year_dict['slugging_perc'] = i.find('td',attrs={'data-stat':'slugging_perc'}).text\n",
    "            year_dict['onbase_plus_slugging'] = i.find('td',attrs={'data-stat':'onbase_plus_slugging'}).text\n",
    "            year_dict['onbase_plus_slugging_plus'] = i.find('td',attrs={'data-stat':'onbase_plus_slugging_plus'}).text\n",
    "            year_dict['TB'] = i.find('td',attrs={'data-stat':'TB'}).text\n",
    "            year_dict['GIDP'] = i.find('td',attrs={'data-stat':'GIDP'}).text\n",
    "            year_dict['HBP'] = i.find('td',attrs={'data-stat':'HBP'}).text\n",
    "            year_dict['SH'] = i.find('td',attrs={'data-stat':'SH'}).text\n",
    "            year_dict['SF'] = i.find('td',attrs={'data-stat':'SF'}).text\n",
    "            year_dict['IBB'] = i.find('td',attrs={'data-stat':'IBB'}).text\n",
    "            year_dict['Pos'] = i.find('td',attrs={'data-stat':'pos_season'}).text\n",
    "            year_dict['awards'] = i.find('td',attrs={'data-stat':'award_summary'}).text\n",
    "            year_dict['runs_bat'] = j.find('td',attrs={'data-stat':'runs_bat'}).text\n",
    "            year_dict['runs_br'] = j.find('td',attrs={'data-stat':'runs_br'}).text\n",
    "            year_dict['runs_dp'] = j.find('td',attrs={'data-stat':'runs_dp'}).text\n",
    "            year_dict['runs_fielding'] = j.find('td',attrs={'data-stat':'runs_fielding'}).text\n",
    "            year_dict['runs_above_avg_bat'] = j.find('td',attrs={'data-stat':'runs_above_avg_bat'}).text\n",
    "            year_dict['WAA'] = j.find('td',attrs={'data-stat':'WAA'}).text\n",
    "            year_dict['runs_replacement'] = j.find('td',attrs={'data-stat':'runs_replacement'}).text\n",
    "            year_dict['runs_above_rep'] = j.find('td',attrs={'data-stat':'runs_above_rep'}).text\n",
    "            year_dict['WAR'] = j.find('td',attrs={'data-stat':'WAR'}).text\n",
    "            year_dict['waa_win_perc'] = j.find('td',attrs={'data-stat':'waa_win_perc'}).text\n",
    "            year_dict['waa_win_perc_162'] = j.find('td',attrs={'data-stat':'waa_win_perc_162'}).text\n",
    "            year_dict['WAR_off'] = j.find('td',attrs={'data-stat':'WAR_off'}).text\n",
    "            year_dict['WAR_def'] = j.find('td',attrs={'data-stat':'WAR_def'}).text\n",
    "            year_dict['runs_above_rep_off'] = j.find('td',attrs={'data-stat':'runs_above_rep_off'}).text\n",
    "            year_dict['Salary'] = j.find('td',attrs={'data-stat':'Salary'}).text\n",
    "            year_dict['rOBA'] = k.find('td',attrs={'data-stat':'rOBA'}).text\n",
    "            year_dict['Rbat+'] = k.find('td',attrs={'data-stat':'Rbat+'}).text\n",
    "            year_dict['adv_bat_babip'] = k.find('td',attrs={'data-stat':'adv_bat_babip'}).text\n",
    "            year_dict['adv_bat_iso'] = k.find('td',attrs={'data-stat':'adv_bat_iso'}).text\n",
    "            year_dict['adv_bat_home_run_perc'] = k.find('td',attrs={'data-stat':'adv_bat_home_run_perc'}).text\n",
    "            year_dict['adv_bat_strikeout_perc'] = k.find('td',attrs={'data-stat':'adv_bat_strikeout_perc'}).text\n",
    "            year_dict['adv_bat_base_on_balls_perc'] = k.find('td',attrs={'data-stat':'adv_bat_base_on_balls_perc'}).text\n",
    "            year_dict['adv_bat_exit_velo'] = k.find('td',attrs={'data-stat':'adv_bat_exit_velo'}).text\n",
    "            year_dict['adv_bat_hard_hit_perc'] = k.find('td',attrs={'data-stat':'adv_bat_hard_hit_perc'}).text\n",
    "            year_dict['adv_bat_ld_perc'] = k.find('td',attrs={'data-stat':'adv_bat_ld_perc'}).text\n",
    "            year_dict['adv_bat_gb_perc'] = k.find('td',attrs={'data-stat':'adv_bat_gb_perc'}).text\n",
    "            year_dict['adv_bat_fb_perc'] = k.find('td',attrs={'data-stat':'adv_bat_fb_perc'}).text\n",
    "            year_dict['adv_bat_gb_fb_ratio'] = k.find('td',attrs={'data-stat':'adv_bat_gb_fb_ratio'}).text\n",
    "            year_dict['adv_bat_pull_perc'] = k.find('td',attrs={'data-stat':'adv_bat_pull_perc'}).text\n",
    "            year_dict['adv_bat_cent_perc'] = k.find('td',attrs={'data-stat':'adv_bat_cent_perc'}).text\n",
    "            year_dict['adv_bat_oppo_perc'] = k.find('td',attrs={'data-stat':'adv_bat_oppo_perc'}).text\n",
    "            year_dict['adv_bat_wpa_bat'] = k.find('td',attrs={'data-stat':'adv_bat_wpa_bat'}).text\n",
    "            year_dict['adv_bat_cwpa_bat'] = k.find('td',attrs={'data-stat':'adv_bat_cwpa_bat'}).text\n",
    "            year_dict['adv_bat_re24_bat'] = k.find('td',attrs={'data-stat':'adv_bat_re24_bat'}).text\n",
    "            #add dictionary to final list\n",
    "            list_of_years.append(year_dict)              \n",
    "    #return final list of dictionaries\n",
    "    return list_of_years\n",
    "    "
   ]
  },
  {
   "cell_type": "markdown",
   "metadata": {},
   "source": [
    "# Turn a list of players into a DataFrame"
   ]
  },
  {
   "cell_type": "code",
   "execution_count": 11,
   "metadata": {},
   "outputs": [],
   "source": [
    "#list function iterates through a list of players and return a dataframe of all players in the list\n",
    "def list_of_players_to_df(list_of_players):\n",
    "    final_dataframe = []\n",
    "    for i in list_of_players:\n",
    "        #calls previous function to pull stats for each player\n",
    "        stats_of_player = data_pull_player_link(i)\n",
    "        for j in stats_of_player:\n",
    "            final_dataframe.append(j)\n",
    "    return final_dataframe"
   ]
  },
  {
   "cell_type": "markdown",
   "metadata": {},
   "source": [
    "# Builds DataFrame from list of teams"
   ]
  },
  {
   "cell_type": "code",
   "execution_count": 12,
   "metadata": {},
   "outputs": [],
   "source": [
    "#this function takes a list of teams and return a dataframe for all players on each team\n",
    "def final_dataframe_builder(list_of_teams):\n",
    "    final_dataframe = []\n",
    "    for i in list_of_teams:\n",
    "        #retrieves a list of all players on a given team\n",
    "        list_of_players_ = player_links_from_team(i)\n",
    "        #returns Dataframe from list of players\n",
    "        answer = list_of_players_to_df(list_of_players_)\n",
    "        for k in answer:\n",
    "            final_dataframe.append(k)\n",
    "    return final_dataframe"
   ]
  },
  {
   "cell_type": "code",
   "execution_count": 15,
   "metadata": {},
   "outputs": [],
   "source": [
    "#splits each list into a division\n",
    "nl_east = new_list[0:5]\n",
    "nl_central = new_list[5:10]\n",
    "nl_west = new_list[10:15]\n",
    "al_east = new_list[15:20]\n",
    "al_central = new_list[20:25]\n",
    "al_west = new_list[25:30]"
   ]
  },
  {
   "cell_type": "markdown",
   "metadata": {},
   "source": [
    "# Creates Dataframes for Each Division"
   ]
  },
  {
   "cell_type": "code",
   "execution_count": 522,
   "metadata": {},
   "outputs": [],
   "source": [
    "nl_east_df = pd.DataFrame(final_dataframe_builder(nl_east))"
   ]
  },
  {
   "cell_type": "code",
   "execution_count": 524,
   "metadata": {},
   "outputs": [],
   "source": [
    "nl_central_df = pd.DataFrame(final_dataframe_builder(nl_central))"
   ]
  },
  {
   "cell_type": "code",
   "execution_count": 525,
   "metadata": {},
   "outputs": [],
   "source": [
    "nl_west_df = pd.DataFrame(final_dataframe_builder(nl_west))"
   ]
  },
  {
   "cell_type": "code",
   "execution_count": 528,
   "metadata": {},
   "outputs": [],
   "source": [
    "al_east_df = pd.DataFrame(final_dataframe_builder(al_east))"
   ]
  },
  {
   "cell_type": "code",
   "execution_count": 529,
   "metadata": {},
   "outputs": [],
   "source": [
    "al_central_df = pd.DataFrame(final_dataframe_builder(al_central))"
   ]
  },
  {
   "cell_type": "code",
   "execution_count": 541,
   "metadata": {},
   "outputs": [],
   "source": [
    "al_west_df = pd.DataFrame(final_dataframe_builder(al_west))"
   ]
  },
  {
   "cell_type": "markdown",
   "metadata": {},
   "source": [
    "# Combines DataFrames for Each Division"
   ]
  },
  {
   "cell_type": "code",
   "execution_count": 543,
   "metadata": {},
   "outputs": [],
   "source": [
    "final_df = pd.concat([nl_east_df,nl_central_df,nl_west_df,al_east_df,al_central_df,al_west_df])"
   ]
  },
  {
   "cell_type": "code",
   "execution_count": 546,
   "metadata": {},
   "outputs": [
    {
     "name": "stdout",
     "output_type": "stream",
     "text": [
      "<class 'pandas.core.frame.DataFrame'>\n",
      "Int64Index: 4163 entries, 0 to 669\n",
      "Data columns (total 63 columns):\n",
      " #   Column                      Non-Null Count  Dtype \n",
      "---  ------                      --------------  ----- \n",
      " 0   year                        4163 non-null   object\n",
      " 1   age                         4163 non-null   object\n",
      " 2   team_ID                     4163 non-null   object\n",
      " 3   games                       4163 non-null   object\n",
      " 4   PA                          4163 non-null   object\n",
      " 5   AB                          4163 non-null   object\n",
      " 6   R                           4163 non-null   object\n",
      " 7   H                           4163 non-null   object\n",
      " 8   2B                          4163 non-null   object\n",
      " 9   3B                          4163 non-null   object\n",
      " 10  HR                          4163 non-null   object\n",
      " 11  RBI                         4163 non-null   object\n",
      " 12  SB                          4163 non-null   object\n",
      " 13  CS                          4163 non-null   object\n",
      " 14  BB                          4163 non-null   object\n",
      " 15  SO                          4163 non-null   object\n",
      " 16  batting_avg                 4163 non-null   object\n",
      " 17  onbase_perc                 4163 non-null   object\n",
      " 18  slugging_perc               4163 non-null   object\n",
      " 19  onbase_plus_slugging        4163 non-null   object\n",
      " 20  onbase_plus_slugging_plus   4163 non-null   object\n",
      " 21  TB                          4163 non-null   object\n",
      " 22  GIDP                        4163 non-null   object\n",
      " 23  HBP                         4163 non-null   object\n",
      " 24  SH                          4163 non-null   object\n",
      " 25  SF                          4163 non-null   object\n",
      " 26  IBB                         4163 non-null   object\n",
      " 27  Pos                         4163 non-null   object\n",
      " 28  awards                      4163 non-null   object\n",
      " 29  runs_bat                    4163 non-null   object\n",
      " 30  runs_br                     4163 non-null   object\n",
      " 31  runs_dp                     4163 non-null   object\n",
      " 32  runs_fielding               4163 non-null   object\n",
      " 33  runs_above_avg_bat          4163 non-null   object\n",
      " 34  WAA                         4163 non-null   object\n",
      " 35  runs_replacement            4163 non-null   object\n",
      " 36  runs_above_rep              4163 non-null   object\n",
      " 37  WAR                         4163 non-null   object\n",
      " 38  waa_win_perc                4163 non-null   object\n",
      " 39  waa_win_perc_162            4163 non-null   object\n",
      " 40  WAR_off                     4163 non-null   object\n",
      " 41  WAR_def                     4163 non-null   object\n",
      " 42  runs_above_rep_off          4163 non-null   object\n",
      " 43  Salary                      4163 non-null   object\n",
      " 44  rOBA                        4163 non-null   object\n",
      " 45  Rbat+                       4163 non-null   object\n",
      " 46  adv_bat_babip               4163 non-null   object\n",
      " 47  adv_bat_iso                 4163 non-null   object\n",
      " 48  adv_bat_home_run_perc       4163 non-null   object\n",
      " 49  adv_bat_strikeout_perc      4163 non-null   object\n",
      " 50  adv_bat_base_on_balls_perc  4163 non-null   object\n",
      " 51  adv_bat_exit_velo           4163 non-null   object\n",
      " 52  adv_bat_hard_hit_perc       4163 non-null   object\n",
      " 53  adv_bat_ld_perc             4163 non-null   object\n",
      " 54  adv_bat_gb_perc             4163 non-null   object\n",
      " 55  adv_bat_fb_perc             4163 non-null   object\n",
      " 56  adv_bat_gb_fb_ratio         4163 non-null   object\n",
      " 57  adv_bat_pull_perc           4163 non-null   object\n",
      " 58  adv_bat_cent_perc           4163 non-null   object\n",
      " 59  adv_bat_oppo_perc           4163 non-null   object\n",
      " 60  adv_bat_wpa_bat             4163 non-null   object\n",
      " 61  adv_bat_cwpa_bat            4163 non-null   object\n",
      " 62  adv_bat_re24_bat            4163 non-null   object\n",
      "dtypes: object(63)\n",
      "memory usage: 2.0+ MB\n"
     ]
    }
   ],
   "source": [
    "final_df.info()"
   ]
  },
  {
   "cell_type": "code",
   "execution_count": 547,
   "metadata": {},
   "outputs": [],
   "source": [
    "final_df.to_csv('baseball_players.csv')"
   ]
  },
  {
   "cell_type": "code",
   "execution_count": null,
   "metadata": {},
   "outputs": [],
   "source": []
  }
 ],
 "metadata": {
  "kernelspec": {
   "display_name": "Python 3",
   "language": "python",
   "name": "python3"
  },
  "language_info": {
   "codemirror_mode": {
    "name": "ipython",
    "version": 3
   },
   "file_extension": ".py",
   "mimetype": "text/x-python",
   "name": "python",
   "nbconvert_exporter": "python",
   "pygments_lexer": "ipython3",
   "version": "3.7.6"
  }
 },
 "nbformat": 4,
 "nbformat_minor": 4
}
